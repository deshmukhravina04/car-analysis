{
 "cells": [
  {
   "cell_type": "markdown",
   "id": "ad41cdc7",
   "metadata": {},
   "source": [
    "# Write a program that takes a student's score as input and calculates their grade. Use the following grading system:\n",
    "\n",
    "90-100: A\n",
    "\n",
    "80-89: B\n",
    "\n",
    "70-79: C\n",
    "\n",
    "60-69: D\n",
    "\n",
    "0-59: F"
   ]
  },
  {
   "cell_type": "code",
   "execution_count": 1,
   "id": "674d036c",
   "metadata": {},
   "outputs": [
    {
     "name": "stdout",
     "output_type": "stream",
     "text": [
      "Enter marks obtained in subject 1: 80\n",
      "Enter marks obtained in subject 2: 70\n",
      "Enter marks obtained in subject 3: 60\n",
      "Avrage marks:  70.00\n",
      "Grade: C\n"
     ]
    }
   ],
   "source": [
    "sub1 = int(input(\"Enter marks obtained in subject 1: \"))\n",
    "sub2 = int(input(\"Enter marks obtained in subject 2: \"))\n",
    "sub3 = int(input(\"Enter marks obtained in subject 3: \"))\n",
    "\n",
    "avg_marks = (sub1 + sub2 + sub3)/3\n",
    "print(\"Avrage marks: \", format(avg_marks,'.2f'))\n",
    "\n",
    "if avg_marks >=90:\n",
    "    print(\"Grade: A\")\n",
    "elif avg_marks >= 80:\n",
    "    print(\"Grade: B\")\n",
    "elif avg_marks >= 70:\n",
    "    print(\"Grade: C\")\n",
    "elif avg_marks >= 60:\n",
    "    print(\"Grade: D\")\n",
    "else:\n",
    "    print(\"Grade: F\")\n",
    "    "
   ]
  },
  {
   "cell_type": "markdown",
   "id": "d803c90e",
   "metadata": {},
   "source": [
    "# Write a Python program to calculate simple interest. Ask the user for the principal amount, the rate of interest, and the time period. Calculate and display the simple interest."
   ]
  },
  {
   "cell_type": "code",
   "execution_count": 2,
   "id": "c86a0621",
   "metadata": {},
   "outputs": [
    {
     "name": "stdout",
     "output_type": "stream",
     "text": [
      "Enter the Principle Amount: \n",
      "200000\n",
      "Enter Rate of Interest (%): \n",
      "15\n",
      "Enter Time Period: \n",
      "2\n",
      "\n",
      "Simple Interest Amount: \n",
      "60000.0\n"
     ]
    }
   ],
   "source": [
    "print(\"Enter the Principle Amount: \")\n",
    "p = int(input())\n",
    "print(\"Enter Rate of Interest (%): \")\n",
    "r = float(input())\n",
    "print(\"Enter Time Period: \")\n",
    "t = float(input())\n",
    "si = (p*r*t)/100\n",
    "print(\"\\nSimple Interest Amount: \")\n",
    "print(si)"
   ]
  },
  {
   "cell_type": "markdown",
   "id": "bfd15103",
   "metadata": {},
   "source": [
    "# Create a Python program to calculate the Body Mass Index (BMI) of a person. Ask the user for their weight in kilograms and height in meters. Calculate and display their BMI."
   ]
  },
  {
   "cell_type": "code",
   "execution_count": 3,
   "id": "ba5948c1",
   "metadata": {},
   "outputs": [
    {
     "name": "stdout",
     "output_type": "stream",
     "text": [
      "Input your height in Feet: 6\n",
      "Input your weight in Kilograms: 65\n",
      "Your body mass index is:  1.81\n"
     ]
    }
   ],
   "source": [
    "\n",
    "height = float(input(\"Input your height in Feet: \"))\n",
    "weight = float(input(\"Input your weight in Kilograms: \"))\n",
    "\n",
    "\n",
    "bmi = weight / (height * height)\n",
    "rounded_bmi = round(bmi, 2)\n",
    "\n",
    "print(\"Your body mass index is: \", rounded_bmi)\n"
   ]
  },
  {
   "cell_type": "markdown",
   "id": "3789f5a6",
   "metadata": {},
   "source": [
    "# Create a program that takes a person's age as input and classifies them into different age groups. The program should consider the following age categories:\n",
    "\n",
    "0-12: Child\n",
    "    \n",
    "13-19: Teenager\n",
    "    \n",
    "20-64: Adult\n",
    "    \n",
    "65 and above: Senior Citizen"
   ]
  },
  {
   "cell_type": "code",
   "execution_count": 4,
   "id": "69c7a099",
   "metadata": {},
   "outputs": [
    {
     "name": "stdout",
     "output_type": "stream",
     "text": [
      "Please enter your age:3\n",
      "Infant\n"
     ]
    }
   ],
   "source": [
    "age = int(input(\"Please enter your age:\"))\n",
    "if age <= 0:\n",
    "    print('Invalid input')\n",
    "elif age >= 1 and age <= 5:\n",
    "    print('Infant')\n",
    "elif age >= 6 and age <= 10:\n",
    "    print('Child')\n",
    "else:\n",
    "    print('Adult')"
   ]
  },
  {
   "cell_type": "markdown",
   "id": "5357b396",
   "metadata": {},
   "source": [
    "# Create a Python program to calculate the final price of an item with a discount. Ask the user for the original price and the discount percentage. Calculate and display the final price."
   ]
  },
  {
   "cell_type": "code",
   "execution_count": 5,
   "id": "eeadbcd8",
   "metadata": {},
   "outputs": [
    {
     "name": "stdout",
     "output_type": "stream",
     "text": [
      "Enter original price: 1100\n",
      "How much discount u want?: 50\n",
      "Final price with 50.0% discount is: 550.0 Rs.\n"
     ]
    }
   ],
   "source": [
    "o_price = int(input(\"Enter original price: \"))\n",
    "d = float(input(\"How much discount u want?: \"))\n",
    "d_price = o_price*(d/100)\n",
    "f_price = o_price - d_price\n",
    "print(f\"Final price with {d}% discount is: {f_price} Rs.\")\n"
   ]
  },
  {
   "cell_type": "markdown",
   "id": "0964c29a",
   "metadata": {},
   "source": [
    "# Write a Python program that checks if a year is a leap year or not. Ask the user for a year and display whether it's a leap year or not."
   ]
  },
  {
   "cell_type": "code",
   "execution_count": 6,
   "id": "76ebc83d",
   "metadata": {},
   "outputs": [
    {
     "name": "stdout",
     "output_type": "stream",
     "text": [
      "Enter the year to check whether it is leap year or not..2024\n",
      "2024 is leap year.\n"
     ]
    }
   ],
   "source": [
    "year = int(input(\"Enter the year to check whether it is leap year or not..\"))\n",
    "if year%4 == 0 and year%100!=0 or year%400 ==0:\n",
    " print(f\"{year} is leap year.\")\n",
    "else:\n",
    " print(f\"{year} is not leap year\")"
   ]
  },
  {
   "cell_type": "markdown",
   "id": "badfba77",
   "metadata": {},
   "source": [
    "# Write a Python program that compares Three numbers and determines which one is greater or if they are equal. Ask the user for two numbers and display the result."
   ]
  },
  {
   "cell_type": "code",
   "execution_count": 7,
   "id": "68ee65f2",
   "metadata": {},
   "outputs": [
    {
     "name": "stdout",
     "output_type": "stream",
     "text": [
      "The largest number is 14\n"
     ]
    }
   ],
   "source": [
    "num1 = 10\n",
    "num2 = 14\n",
    "num3 = 12\n",
    "\n",
    "\n",
    "if (num1 >= num2) and (num1 >= num3):\n",
    "   largest = num1\n",
    "elif (num2 >= num1) and (num2 >= num3):\n",
    "   largest = num2\n",
    "else:\n",
    "   largest = num3\n",
    "\n",
    "print(\"The largest number is\", largest)\n"
   ]
  },
  {
   "cell_type": "markdown",
   "id": "69c61c37",
   "metadata": {},
   "source": [
    "# Write a Python program that checks if the given sides can form a valid triangle. Ask the user for the lengths of three sides and determine if they can create a triangle based on the triangle inequality theorem."
   ]
  },
  {
   "cell_type": "code",
   "execution_count": 11,
   "id": "17e11fc7",
   "metadata": {},
   "outputs": [
    {
     "name": "stdout",
     "output_type": "stream",
     "text": [
      "Enter length of side a: 2\n",
      "Enter length of side b: 2\n",
      "Enter length of side c: 4\n",
      "Triangle is Valid.\n"
     ]
    }
   ],
   "source": [
    "def is_valid_triangle(a,b,c):\n",
    "    if a+b>=c and b+c>=a and c+a>=b:\n",
    "        return True\n",
    "    else:\n",
    "        return False\n",
    "\n",
    "side_a = float(input('Enter length of side a: '))\n",
    "side_b = float(input('Enter length of side b: '))\n",
    "side_c = float(input('Enter length of side c: '))\n",
    "\n",
    "\n",
    "if is_valid_triangle(side_a, side_b, side_c):\n",
    "    print('Triangle is Valid.')\n",
    "else:\n",
    "    print('Triangle is Invalid.')"
   ]
  }
 ],
 "metadata": {
  "kernelspec": {
   "display_name": "Python 3 (ipykernel)",
   "language": "python",
   "name": "python3"
  },
  "language_info": {
   "codemirror_mode": {
    "name": "ipython",
    "version": 3
   },
   "file_extension": ".py",
   "mimetype": "text/x-python",
   "name": "python",
   "nbconvert_exporter": "python",
   "pygments_lexer": "ipython3",
   "version": "3.10.9"
  }
 },
 "nbformat": 4,
 "nbformat_minor": 5
}
